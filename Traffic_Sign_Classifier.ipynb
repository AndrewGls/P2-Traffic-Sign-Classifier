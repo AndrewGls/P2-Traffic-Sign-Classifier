{
 "cells": [
  {
   "cell_type": "markdown",
   "metadata": {},
   "source": [
    "# Self-Driving Car Engineer Nanodegree\n",
    "\n",
    "## Deep Learning\n",
    "\n",
    "## Project: Build a Traffic Sign Recognition Classifier\n",
    "\n",
    "In this notebook, a template is provided for you to implement your functionality in stages which is required to successfully complete this project. If additional code is required that cannot be included in the notebook, be sure that the Python code is successfully imported and included in your submission, if necessary. Sections that begin with **'Implementation'** in the header indicate where you should begin your implementation for your project. Note that some sections of implementation are optional, and will be marked with **'Optional'** in the header.\n",
    "\n",
    "In addition to implementing code, there will be questions that you must answer which relate to the project and your implementation. Each section where you will answer a question is preceded by a **'Question'** header. Carefully read each question and provide thorough answers in the following text boxes that begin with **'Answer:'**. Your project submission will be evaluated based on your answers to each of the questions and the implementation you provide.\n",
    "\n",
    ">**Note:** Code and Markdown cells can be executed using the **Shift + Enter** keyboard shortcut. In addition, Markdown cells can be edited by typically double-clicking the cell to enter edit mode."
   ]
  },
  {
   "cell_type": "markdown",
   "metadata": {},
   "source": [
    "---\n",
    "## Step 0: Load The Data"
   ]
  },
  {
   "cell_type": "code",
   "execution_count": 1,
   "metadata": {
    "collapsed": false
   },
   "outputs": [],
   "source": [
    "# Load pickled data\n",
    "import pickle\n",
    "\n",
    "# TODO: Fill this in based on where you saved the training and testing data\n",
    "\n",
    "training_file = \"traffic-signs-data/train.p\"\n",
    "testing_file = \"traffic-signs-data/test.p\"\n",
    "\n",
    "with open(training_file, mode='rb') as f:\n",
    "    train = pickle.load(f)\n",
    "with open(testing_file, mode='rb') as f:\n",
    "    test = pickle.load(f)\n",
    "    \n",
    "X_train, y_train = train['features'], train['labels']\n",
    "X_test, y_test = test['features'], test['labels']\n",
    "\n",
    "assert(len(X_train) == len(y_train))\n",
    "assert(len(X_test) == len(y_test))"
   ]
  },
  {
   "cell_type": "markdown",
   "metadata": {},
   "source": [
    "#### Import traffic sign names from csv file"
   ]
  },
  {
   "cell_type": "code",
   "execution_count": 2,
   "metadata": {
    "collapsed": true
   },
   "outputs": [],
   "source": [
    "import csv\n",
    "\n",
    "def load_traffic_sign_names(csvfile):\n",
    "    signnames = dict()\n",
    "    with open(csvfile, 'r') as f:\n",
    "        for line in f.readlines():\n",
    "            array = line.split(',')\n",
    "            signnames[array[0]] = array[1]\n",
    "    return signnames\n",
    "        \n",
    "sign_names = load_traffic_sign_names('signnames.csv')\n"
   ]
  },
  {
   "cell_type": "markdown",
   "metadata": {},
   "source": [
    "---\n",
    "\n",
    "## Step 1: Dataset Summary & Exploration\n",
    "\n",
    "The pickled data is a dictionary with 4 key/value pairs:\n",
    "\n",
    "- `'features'` is a 4D array containing raw pixel data of the traffic sign images, (num examples, width, height, channels).\n",
    "- `'labels'` is a 2D array containing the label/class id of the traffic sign. The file `signnames.csv` contains id -> name mappings for each id.\n",
    "- `'sizes'` is a list containing tuples, (width, height) representing the the original width and height the image.\n",
    "- `'coords'` is a list containing tuples, (x1, y1, x2, y2) representing coordinates of a bounding box around the sign in the image. **THESE COORDINATES ASSUME THE ORIGINAL IMAGE. THE PICKLED DATA CONTAINS RESIZED VERSIONS (32 by 32) OF THESE IMAGES**\n",
    "\n",
    "Complete the basic data summary below."
   ]
  },
  {
   "cell_type": "code",
   "execution_count": 3,
   "metadata": {
    "collapsed": true
   },
   "outputs": [],
   "source": [
    "import random\n",
    "import numpy as np\n",
    "import matplotlib.pyplot as plt\n",
    "%matplotlib inline"
   ]
  },
  {
   "cell_type": "code",
   "execution_count": 4,
   "metadata": {
    "collapsed": true
   },
   "outputs": [],
   "source": [
    "def show_sample(img, y_data):\n",
    "    plt.figure(figsize=(1,1))\n",
    "    plt.title(sign_names[str(y_data)], fontsize=8)\n",
    "    plt.tick_params(axis='both', which='major', labelsize=6)\n",
    "    plt.imshow(img)"
   ]
  },
  {
   "cell_type": "markdown",
   "metadata": {},
   "source": [
    "#### Test sample"
   ]
  },
  {
   "cell_type": "code",
   "execution_count": 5,
   "metadata": {
    "collapsed": false
   },
   "outputs": [
    {
     "data": {
      "image/png": "[encoded data removed]",
      "text/plain": [
       "<matplotlib.figure.Figure at 0x287f25abac8>"
      ]
     },
     "metadata": {},
     "output_type": "display_data"
    }
   ],
   "source": [
    "index = random.randint(0, len(X_train))\n",
    "show_sample(X_train[index], y_train[index])"
   ]
  },
  {
   "cell_type": "markdown",
   "metadata": {},
   "source": [
    "#### Train sample"
   ]
  },
  {
   "cell_type": "code",
   "execution_count": 6,
   "metadata": {
    "collapsed": false
   },
   "outputs": [
    {
     "data": {
      "image/png": "[encoded data removed]",
      "text/plain": [
       "<matplotlib.figure.Figure at 0x287f25d5c18>"
      ]
     },
     "metadata": {},
     "output_type": "display_data"
    }
   ],
   "source": [
    "index = random.randint(0, len(X_test))\n",
    "show_sample(X_test[index], y_test[index])"
   ]
  },
  {
   "cell_type": "code",
   "execution_count": 7,
   "metadata": {
    "collapsed": false
   },
   "outputs": [
    {
     "name": "stdout",
     "output_type": "stream",
     "text": [
      "Number of training examples = 39209\n",
      "Number of testing examples = 12630\n",
      "Image data shape = (32, 32, 3)\n",
      "Number of classes = 43\n"
     ]
    }
   ],
   "source": [
    "### Replace each question mark with the appropriate value.\n",
    "\n",
    "# TODO: Number of training examples\n",
    "n_train = len(X_train)\n",
    "\n",
    "# TODO: Number of testing examples.\n",
    "n_test = len(X_test)\n",
    "\n",
    "# TODO: What's the shape of an traffic sign image?\n",
    "image_shape = X_train[0].shape\n",
    "\n",
    "# TODO: How many unique classes/labels there are in the dataset.\n",
    "n_classes = 43\n",
    "\n",
    "print(\"Number of training examples =\", n_train)\n",
    "print(\"Number of testing examples =\", n_test)\n",
    "print(\"Image data shape =\", image_shape)\n",
    "print(\"Number of classes =\", n_classes)"
   ]
  },
  {
   "cell_type": "markdown",
   "metadata": {},
   "source": [
    "Visualize the German Traffic Signs Dataset using the pickled file(s). This is open ended, suggestions include: plotting traffic sign images, plotting the count of each sign, etc.\n",
    "\n",
    "The [Matplotlib](http://matplotlib.org/) [examples](http://matplotlib.org/examples/index.html) and [gallery](http://matplotlib.org/gallery.html) pages are a great resource for doing visualizations in Python.\n",
    "\n",
    "**NOTE:** It's recommended you start with something simple first. If you wish to do more, come back to it after you've completed the rest of the sections."
   ]
  },
  {
   "cell_type": "code",
   "execution_count": 8,
   "metadata": {
    "collapsed": false
   },
   "outputs": [],
   "source": [
    "### Data exploration visualization goes here.\n",
    "### Feel free to use as many code cells as needed.\n",
    "import matplotlib.pyplot as plt\n",
    "# Visualizations will be shown in the notebook.\n",
    "%matplotlib inline\n"
   ]
  },
  {
   "cell_type": "code",
   "execution_count": 9,
   "metadata": {
    "collapsed": false
   },
   "outputs": [
    {
     "name": "stdout",
     "output_type": "stream",
     "text": [
      "Number of training examples = 39209\n",
      "Number of testing examples = 12630\n"
     ]
    },
    {
     "data": {
      "image/png": "[encoded data removed]",
      "text/plain": [
       "<matplotlib.figure.Figure at 0x287f298beb8>"
      ]
     },
     "metadata": {},
     "output_type": "display_data"
    }
   ],
   "source": [
    "fig, (ax1, ax2) = plt.subplots(nrows=1, ncols=2)\n",
    "ax1.set_title('Train', fontsize=8)\n",
    "\n",
    "bins = range(n_classes + 1)\n",
    "ax1.hist(y_train, bins=bins)\n",
    "ax1.set_title('Distribution of classes in Train set', fontsize=10)\n",
    "\n",
    "ax2.hist(y_test, bins=bins)\n",
    "ax2.set_title('Distribution of classes in Test set', fontsize=10)\n",
    "\n",
    "plt.tight_layout()\n",
    "\n",
    "print(\"Number of training examples =\", len(y_train))\n",
    "print(\"Number of testing examples =\", len(y_test))    "
   ]
  },
  {
   "cell_type": "markdown",
   "metadata": {},
   "source": [
    "As we can see from histograms, there is big difference between the classes in the train set. For example, the class 0 is presented by less that 200 samples. It would be better to generate additional samples (data augmentation) using small random translation along X and Y, rotation and, as optional, perspective distortion (can be approximated by affine transformation) to reduce the probable bias of network towards some classes."
   ]
  },
  {
   "cell_type": "markdown",
   "metadata": {},
   "source": [
    "----\n",
    "\n",
    "## Step 2: Design and Test a Model Architecture\n",
    "\n",
    "Design and implement a deep learning model that learns to recognize traffic signs. Train and test your model on the [German Traffic Sign Dataset](http://benchmark.ini.rub.de/?section=gtsrb&subsection=dataset).\n",
    "\n",
    "There are various aspects to consider when thinking about this problem:\n",
    "\n",
    "- Neural network architecture\n",
    "- Play around preprocessing techniques (normalization, rgb to grayscale, etc)\n",
    "- Number of examples per label (some have more than others).\n",
    "- Generate fake data.\n",
    "\n",
    "Here is an example of a [published baseline model on this problem](http://yann.lecun.com/exdb/publis/pdf/sermanet-ijcnn-11.pdf). It's not required to be familiar with the approach used in the paper but, it's good practice to try to read papers like these.\n",
    "\n",
    "**NOTE:** The LeNet-5 implementation shown in the [classroom](https://classroom.udacity.com/nanodegrees/nd013/parts/fbf77062-5703-404e-b60c-95b78b2f3f9e/modules/6df7ae49-c61c-4bb2-a23e-6527e69209ec/lessons/601ae704-1035-4287-8b11-e2c2716217ad/concepts/d4aca031-508f-4e0b-b493-e7b706120f81) at the end of the CNN lesson is a solid starting point. You'll have to change the number of classes and possibly the preprocessing, but aside from that it's plug and play!"
   ]
  },
  {
   "cell_type": "markdown",
   "metadata": {},
   "source": [
    "### Implementation\n",
    "\n",
    "Use the code cell (or multiple code cells, if necessary) to implement the first step of your project. Once you have completed your implementation and are satisfied with the results, be sure to thoroughly answer the questions that follow."
   ]
  },
  {
   "cell_type": "code",
   "execution_count": 10,
   "metadata": {
    "collapsed": true
   },
   "outputs": [],
   "source": [
    "### Preprocess the data here.\n",
    "### Feel free to use as many code cells as needed."
   ]
  },
  {
   "cell_type": "markdown",
   "metadata": {},
   "source": [
    "#### Data augmentation"
   ]
  },
  {
   "cell_type": "code",
   "execution_count": 11,
   "metadata": {
    "collapsed": false
   },
   "outputs": [
    {
     "name": "stdout",
     "output_type": "stream",
     "text": [
      "Number of training examples = 55499\n",
      "Number of testing examples = 12630\n"
     ]
    },
    {
     "data": {
      "image/png": "[encoded data removed]",
      "text/plain": [
       "<matplotlib.figure.Figure at 0x287f2c27898>"
      ]
     },
     "metadata": {},
     "output_type": "display_data"
    }
   ],
   "source": [
    "### Data augmentation on the fly\n",
    "\n",
    "import cv2\n",
    "\n",
    "DATA_AUGMENTATION = True # enable/disable\n",
    "\n",
    "import random\n",
    "random.seed(a=13)\n",
    "\n",
    "translate_dist = 5\n",
    "rotate_dist = 20 # degree\n",
    "\n",
    "def generate_params():    \n",
    "    tx = random.randint(0, 2*translate_dist) - translate_dist\n",
    "    ty = random.randint(0, 2*translate_dist) - translate_dist\n",
    "    angle = random.uniform(0.0, 2*rotate_dist) - rotate_dist\n",
    "    return tx, ty, angle\n",
    "\n",
    "def generate_sample(im):\n",
    "    tx, ty, angle = generate_params()\n",
    "    w = im.shape[0]\n",
    "    h = im.shape[1]\n",
    "    M = cv2.getRotationMatrix2D((w/2,h/2),angle,1)\n",
    "    im = cv2.warpAffine(im,M,(w,h))   \n",
    "    return im        \n",
    "\n",
    "def get_class_samples(hist, X_data, y_data):\n",
    "    \n",
    "    class_dict = dict()\n",
    "    class_set = set()\n",
    "    \n",
    "    h_min = np.min(hist)\n",
    "    h_max = np.max(hist)\n",
    "\n",
    "    target = int((h_max - h_min) / 4)\n",
    "\n",
    "    for i in range(len(X_data)):\n",
    "        cls_n = y_data[i]\n",
    "        num = hist[cls_n]\n",
    "        if num < target:\n",
    "            item = class_dict.get(str(cls_n))\n",
    "            if item is None:\n",
    "                class_dict[str(cls_n)] = list()\n",
    "            item = class_dict[str(cls_n)]\n",
    "            item.append(X_data[i])\n",
    "            class_set.add(cls_n)\n",
    "            \n",
    "    return class_dict, class_set\n",
    "\n",
    "def data_augmentation(hist, X_data, y_data):\n",
    "    X_gen = list()\n",
    "    y_gen = list()\n",
    "    \n",
    "    counter_cls_dict = dict()\n",
    "\n",
    "    h_min = np.min(hist)\n",
    "    h_max = np.max(hist)\n",
    "\n",
    "    target = int((h_max - h_min)/2)\n",
    "    \n",
    "    train_dict, train_cls = get_class_samples(hist, X_data, y_data)\n",
    "    for cls in train_cls:\n",
    "        samples = train_dict[str(cls)]\n",
    "        n_samples = len(samples)\n",
    "        \n",
    "        count = int(target / n_samples)\n",
    "        counter_cls_dict[str(cls)] = count\n",
    "        \n",
    "        for n in range(count):\n",
    "            for im in samples:\n",
    "                X_gen.append(generate_sample(im))\n",
    "                y_gen.append(cls)\n",
    "            \n",
    "    X_gen = np.asarray(X_gen, dtype=X_train.dtype)\n",
    "    y_gen = np.asarray(y_gen, dtype=y_train.dtype)\n",
    "  \n",
    "    counter_cls_dict['classes_set'] = train_cls\n",
    "    \n",
    "    return X_gen, y_gen, counter_cls_dict\n",
    "\n",
    "\n",
    "# Do data augmentation\n",
    "if DATA_AUGMENTATION:\n",
    "    \n",
    "    global X_train\n",
    "    global y_train\n",
    "    \n",
    "    y_train_init = y_train\n",
    "    \n",
    "    train_hist = np.histogram(y_train, bins=range(n_classes+1))\n",
    "    X_gen, y_gen, counter_cls_dict = data_augmentation(train_hist[0], X_train, y_train)\n",
    "    assert (len(X_gen)==len(y_gen))\n",
    "    if (len(X_gen)):\n",
    "        X_train = np.append(X_train, X_gen, axis=0)\n",
    "        y_train = np.append(y_train, y_gen, axis=0)\n",
    "        train_hist = np.histogram(y_train, bins=range(n_classes+1))\n",
    "\n",
    "    # Draw histograms\n",
    "    fig, (ax1, ax2) = plt.subplots(nrows=1, ncols=2)\n",
    "    ax1.set_title('Train', fontsize=8)\n",
    "\n",
    "    bins = range(n_classes+1)\n",
    "    ax1.hist(y_train_init, bins=bins)\n",
    "    ax1.set_title('Train set before', fontsize=10)\n",
    "\n",
    "    ax2.hist(y_train, bins=bins)\n",
    "    ax2.set_title('Train set after', fontsize=10)\n",
    "\n",
    "    plt.tight_layout()\n",
    "    \n",
    "n_train = len(y_train)\n",
    "\n",
    "print(\"Number of training examples =\", len(y_train))\n",
    "print(\"Number of testing examples =\", len(y_test))    "
   ]
  },
  {
   "cell_type": "code",
   "execution_count": 12,
   "metadata": {
    "collapsed": false
   },
   "outputs": [],
   "source": [
    "from sklearn.utils import shuffle\n",
    "\n",
    "X_train, y_train = shuffle(X_train, y_train)"
   ]
  },
  {
   "cell_type": "code",
   "execution_count": 13,
   "metadata": {
    "collapsed": true
   },
   "outputs": [],
   "source": [
    "Input_channels = 3 # number of channels in input images"
   ]
  },
  {
   "cell_type": "code",
   "execution_count": 14,
   "metadata": {
    "collapsed": false,
    "scrolled": true
   },
   "outputs": [
    {
     "data": {
      "image/png": "[encoded data removed]",
      "text/plain": [
       "<matplotlib.figure.Figure at 0x287f299f828>"
      ]
     },
     "metadata": {},
     "output_type": "display_data"
    }
   ],
   "source": [
    "# Extract Y channel from color image and use it as input image for LeNet-5\n",
    "# Preprocessing: histogram equalization\n",
    "\n",
    "import cv2\n",
    "\n",
    "def preprocess_images(inputImgs):\n",
    "    # Convert to gray image, equalize it and add expand dimension\n",
    "    imgs = np.ndarray((inputImgs.shape[0], 32, 32, 1), dtype=np.uint8)\n",
    "    for i, img in enumerate(inputImgs):\n",
    "        #img = cv2.cvtColor(img, cv2.COLOR_BGR2GRAY) \n",
    "        yuv = cv2.cvtColor(img, cv2.COLOR_BGR2LAB)\n",
    "        img, u, v = cv2.split(yuv)       \n",
    "        img = cv2.equalizeHist(img)\n",
    "        img = np.expand_dims(img, axis=2)\n",
    "        imgs[i] = img\n",
    "    return imgs\n",
    "     \n",
    "fig, (ax1, ax2) = plt.subplots(nrows=1, ncols=2)\n",
    "\n",
    "# Original sample\n",
    "index = random.randint(0, len(X_train))\n",
    "ax1.set_title('Original', fontsize=8)\n",
    "ax1.tick_params(axis='both', which='major', labelsize=6)\n",
    "ax1.imshow(X_train[index])\n",
    "\n",
    "# Preprocessing\n",
    "X_train = preprocess_images(X_train)\n",
    "X_test = preprocess_images(X_test)\n",
    "\n",
    "# Preprocessed sample\n",
    "ax2.set_title('Preprocessed', fontsize=8)\n",
    "ax2.tick_params(axis='both', which='major', labelsize=6)\n",
    "gr = np.squeeze(X_train[index], axis=2)\n",
    "ax2.imshow(np.dstack((gr,gr,gr)))\n",
    "\n",
    "plt.tight_layout()\n",
    "\n",
    "Input_channels = 1 # now input images are gray"
   ]
  },
  {
   "cell_type": "markdown",
   "metadata": {},
   "source": [
    "#### Centering and normalization"
   ]
  },
  {
   "cell_type": "code",
   "execution_count": 15,
   "metadata": {
    "collapsed": false
   },
   "outputs": [
    {
     "name": "stdout",
     "output_type": "stream",
     "text": [
      "mean = 129.803\n",
      "std = 74.914\n"
     ]
    }
   ],
   "source": [
    "def center_and_normaize_image(images, mean, std):\n",
    "    images = images.astype('float32')\n",
    "    images -= mean\n",
    "    images /= std\n",
    "    return images\n",
    "\n",
    "# Centering and normalization\n",
    "MEAN = np.mean(X_train)\n",
    "STD = np.std(X_train)\n",
    "\n",
    "X_train = center_and_normaize_image(X_train, MEAN, STD)\n",
    "X_test = center_and_normaize_image(X_test, MEAN, STD)\n",
    "\n",
    "print(\"mean = {:.3f}\".format(MEAN))\n",
    "print(\"std = {:.3f}\".format(STD))"
   ]
  },
  {
   "cell_type": "markdown",
   "metadata": {},
   "source": [
    "### Question 1 \n",
    "\n",
    "_Describe how you preprocessed the data. Why did you choose that technique?_"
   ]
  },
  {
   "cell_type": "markdown",
   "metadata": {},
   "source": [
    "**Answer:**\n",
    "\n",
    "Extracted luminance Y channel from input RGB images, preprocessed and used them as input images for LeNet-5 model. Removing color information allows to increase the speed of training and better learn and extract structures, used to classify the traffic signs.\n",
    "\n",
    "Preprocessing:\n",
    "\n",
    "Histogram equalization for Y channel to improve the contrast in an image of sign. Disadvantage of equalization is reducing some details in signs."
   ]
  },
  {
   "cell_type": "code",
   "execution_count": 16,
   "metadata": {
    "collapsed": true
   },
   "outputs": [],
   "source": [
    "### Generate data additional data (OPTIONAL!)\n",
    "### and split the data into training/validation/testing sets here.\n",
    "### Feel free to use as many code cells as needed."
   ]
  },
  {
   "cell_type": "markdown",
   "metadata": {},
   "source": [
    "#### Data augmentation"
   ]
  },
  {
   "cell_type": "code",
   "execution_count": 17,
   "metadata": {
    "collapsed": true
   },
   "outputs": [],
   "source": [
    "# See Data augmentation on the fly above!"
   ]
  },
  {
   "cell_type": "markdown",
   "metadata": {},
   "source": [
    "#### Splitting train set on tran set and validation set"
   ]
  },
  {
   "cell_type": "code",
   "execution_count": 18,
   "metadata": {
    "collapsed": false
   },
   "outputs": [
    {
     "name": "stdout",
     "output_type": "stream",
     "text": [
      "Number of training examples = 44399\n",
      "Number of validation examples = 11100\n",
      "Number of testing examples = 12630\n"
     ]
    }
   ],
   "source": [
    "TEST_SIZE = 0.2\n",
    "\n",
    "from sklearn.model_selection import train_test_split\n",
    "\n",
    "X_train, X_validation, y_train, y_validation = train_test_split(X_train, y_train, test_size=TEST_SIZE, random_state=0)\n",
    "\n",
    "# Number of training examples\n",
    "n_train = len(X_train)\n",
    "\n",
    "assert(len(X_train) == len(y_train))\n",
    "assert(len(X_validation) == len(y_validation))\n",
    "\n",
    "print(\"Number of training examples =\", n_train)\n",
    "print(\"Number of validation examples =\", len(X_validation))\n",
    "print(\"Number of testing examples =\", n_test)"
   ]
  },
  {
   "cell_type": "markdown",
   "metadata": {},
   "source": [
    "### Question 2\n",
    "\n",
    "_Describe how you set up the training, validation and testing data for your model. **Optional**: If you generated additional data, how did you generate the data? Why did you generate the data? What are the differences in the new dataset (with generated data) from the original dataset?_"
   ]
  },
  {
   "cell_type": "markdown",
   "metadata": {},
   "source": [
    "**Answer:**\n",
    "\n",
    "I added centering and normalization of preprocessed images (Y channel). To get the same result during validation and evaluation of model, I centered and normalized X_validation and X_test sets using mean and std values, calculated on X_train set.\n",
    "\n",
    "Added data augmentation for low presented classes to reduce large difference between classes: generated additional data samples using small random translation along X and Y and rotation to reduce the probable bias of network towards some classes. it is better to do data augmentation to boost the performance especially. Moreover, data augmentation is usefull for training a deep network. As you can see from histograms above (see Data augmentation section), I generated additional samples for low presented classes."
   ]
  },
  {
   "cell_type": "code",
   "execution_count": 19,
   "metadata": {
    "collapsed": true
   },
   "outputs": [],
   "source": [
    "### Define your architecture here.\n",
    "### Feel free to use as many code cells as needed."
   ]
  },
  {
   "cell_type": "code",
   "execution_count": 20,
   "metadata": {
    "collapsed": true
   },
   "outputs": [],
   "source": [
    "# Setup TensorFlow\n",
    "\n",
    "import tensorflow as tf\n",
    "\n",
    "EPOCHS = 100\n",
    "BATCH_SIZE = 128\n",
    "LEARNING_RATE = 0.001\n",
    "KEEP_PROP = 0.5\n",
    "BETA = 0.00001#0.0001"
   ]
  },
  {
   "cell_type": "markdown",
   "metadata": {},
   "source": [
    "** Architecture **"
   ]
  },
  {
   "cell_type": "code",
   "execution_count": 21,
   "metadata": {
    "collapsed": false
   },
   "outputs": [],
   "source": [
    "from tensorflow.contrib.layers import flatten\n",
    "\n",
    "def LeNet(x, keep_prob, input_channels):    \n",
    "    # Hyperparameters\n",
    "    mu = 0\n",
    "    sigma = 0.1\n",
    "    \n",
    "    # SOLUTION: Layer 1: Convolutional. Input = 32x32x1. Output = 28x28x6.\n",
    "    conv1_W = tf.Variable(tf.truncated_normal(shape=(5, 5, input_channels, 6), mean = mu, stddev = sigma))\n",
    "    conv1_b = tf.Variable(tf.zeros(6))\n",
    "    conv1   = tf.nn.conv2d(x, conv1_W, strides=[1, 1, 1, 1], padding='VALID') + conv1_b\n",
    "\n",
    "    # SOLUTION: Activation.\n",
    "    conv1 = tf.nn.relu(conv1)\n",
    "\n",
    "    # SOLUTION: Pooling. Input = 28x28x6. Output = 14x14x6.\n",
    "    conv1 = tf.nn.max_pool(conv1, ksize=[1, 2, 2, 1], strides=[1, 2, 2, 1], padding='VALID')\n",
    "\n",
    "    # SOLUTION: Layer 2: Convolutional. Output = 10x10x16.\n",
    "    conv2_W = tf.Variable(tf.truncated_normal(shape=(5, 5, 6, 16), mean = mu, stddev = sigma))\n",
    "    conv2_b = tf.Variable(tf.zeros(16))\n",
    "    conv2   = tf.nn.conv2d(conv1, conv2_W, strides=[1, 1, 1, 1], padding='VALID') + conv2_b\n",
    "    \n",
    "    # SOLUTION: Activation.\n",
    "    conv2 = tf.nn.relu(conv2)\n",
    "\n",
    "    # SOLUTION: Pooling. Input = 10x10x16. Output = 5x5x16.\n",
    "    conv2 = tf.nn.max_pool(conv2, ksize=[1, 2, 2, 1], strides=[1, 2, 2, 1], padding='VALID')\n",
    "\n",
    "    # SOLUTION: Flatten. Input = 5x5x16. Output = 400.\n",
    "    fc0   = flatten(conv2)\n",
    "    \n",
    "    # SOLUTION: Layer 3: Fully Connected. Input = 400. Output = 120.\n",
    "    fc1_W = tf.Variable(tf.truncated_normal(shape=(400, 120), mean = mu, stddev = sigma))\n",
    "    fc1_b = tf.Variable(tf.zeros(120))\n",
    "    fc1   = tf.matmul(fc0, fc1_W) + fc1_b\n",
    "    \n",
    "    # SOLUTION: Activation.\n",
    "    fc1    = tf.nn.relu(fc1)\n",
    "    fc1 = tf.nn.dropout(fc1, keep_prob)\n",
    "\n",
    "    # SOLUTION: Layer 4: Fully Connected. Input = 120. Output = 84.\n",
    "    fc2_W  = tf.Variable(tf.truncated_normal(shape=(120, 84), mean = mu, stddev = sigma))\n",
    "    fc2_b  = tf.Variable(tf.zeros(84))\n",
    "    fc2    = tf.matmul(fc1, fc2_W) + fc2_b\n",
    "    \n",
    "    # SOLUTION: Activation.\n",
    "    fc2    = tf.nn.relu(fc2)\n",
    "    fc2 = tf.nn.dropout(fc2, keep_prob)\n",
    "\n",
    "    # SOLUTION: Layer 5: Fully Connected. Input = 84. Output = 10.\n",
    "    fc3_W  = tf.Variable(tf.truncated_normal(shape=(84, n_classes), mean = mu, stddev = sigma))\n",
    "    fc3_b  = tf.Variable(tf.zeros(n_classes))\n",
    "    logits = tf.matmul(fc2, fc3_W) + fc3_b\n",
    "    \n",
    "    # L2 regularization\n",
    "    l2reg = BETA * tf.nn.l2_loss(conv1_W) + BETA * tf.nn.l2_loss(conv1_b) \n",
    "    l2reg = l2reg + BETA * tf.nn.l2_loss(conv2_W) + BETA * tf.nn.l2_loss(conv2_b) # +\n",
    "    l2reg = l2reg + BETA * tf.nn.l2_loss(fc1_W) + BETA * tf.nn.l2_loss(fc1_b) #+\n",
    "    l2reg = l2reg + BETA * tf.nn.l2_loss(fc2_W) + BETA * tf.nn.l2_loss(fc2_b) # +\n",
    "    l2reg = l2reg + BETA * tf.nn.l2_loss(fc3_W) + BETA * tf.nn.l2_loss(fc3_b)\n",
    "        \n",
    "    return logits, l2reg"
   ]
  },
  {
   "cell_type": "markdown",
   "metadata": {},
   "source": [
    "### Question 3\n",
    "\n",
    "_What does your final architecture look like? (Type of model, layers, sizes, connectivity, etc.)  For reference on how to build a deep neural network using TensorFlow, see [Deep Neural Network in TensorFlow\n",
    "](https://classroom.udacity.com/nanodegrees/nd013/parts/fbf77062-5703-404e-b60c-95b78b2f3f9e/modules/6df7ae49-c61c-4bb2-a23e-6527e69209ec/lessons/b516a270-8600-4f93-a0a3-20dfeabe5da6/concepts/83a3a2a2-a9bd-4b7b-95b0-eb924ab14432) from the classroom._\n"
   ]
  },
  {
   "cell_type": "markdown",
   "metadata": {},
   "source": [
    "**Answer:**\n",
    "\n",
    "I uses modified version of LeNet-5 as the initial model to build traffic sign classifier.\n",
    "\n",
    "** Input **\n",
    "\n",
    "The LeNet architecture accepts a 32x32xC image as input, where C=1 is the number of channels.\n",
    "\n",
    "** Architecture **\n",
    "\n",
    "Layer 1: Convolutional. The output shape should be 28x28x6.\n",
    "\n",
    "Activation. Relu.\n",
    "\n",
    "Pooling. The output shape should be 14x14x6.\n",
    "\n",
    "Layer 2: Convolutional. The output shape should be 10x10x16.\n",
    "\n",
    "Activation. Relu.\n",
    "\n",
    "Pooling. The output shape should be 5x5x16.\n",
    "\n",
    "Flatten. Flatten the output shape of the final pooling layer such that it's 1D instead of 3D. The easiest way to do is by using tf.contrib.layers.flatten, which is already imported for you.\n",
    "\n",
    "Layer 3: Fully Connected. This should have 120 outputs.\n",
    "\n",
    "Activation. Relu.\n",
    "\n",
    "Dropout.\n",
    "\n",
    "Layer 4: Fully Connected. This should have 84 outputs.\n",
    "\n",
    "Activation. Relu.\n",
    "\n",
    "Dropout.\n",
    "\n",
    "Layer 5: Fully Connected (Logits). This should have 43 outputs.\n",
    "\n",
    "** Output **\n",
    "\n",
    "Return the result of the 2nd fully connected layer."
   ]
  },
  {
   "cell_type": "code",
   "execution_count": 22,
   "metadata": {
    "collapsed": true
   },
   "outputs": [],
   "source": [
    "### Train your model here.\n",
    "### Feel free to use as many code cells as needed."
   ]
  },
  {
   "cell_type": "markdown",
   "metadata": {},
   "source": [
    "\n",
    "#### Features and Labels\n",
    "x is a placeholder for a batch of input images. y is a placeholder for a batch of output labels."
   ]
  },
  {
   "cell_type": "code",
   "execution_count": 23,
   "metadata": {
    "collapsed": false
   },
   "outputs": [],
   "source": [
    "x = tf.placeholder(tf.float32, (None, 32, 32, Input_channels))\n",
    "y = tf.placeholder(tf.int32, (None))\n",
    "keep_prob = tf.placeholder(tf.float32) # probability to keep units\n",
    "one_hot_y = tf.one_hot(y, n_classes)"
   ]
  },
  {
   "cell_type": "markdown",
   "metadata": {},
   "source": [
    "#### Training Pipeline\n",
    "Create a training pipeline that uses the model to classify traffic signs."
   ]
  },
  {
   "cell_type": "code",
   "execution_count": 24,
   "metadata": {
    "collapsed": true
   },
   "outputs": [],
   "source": [
    "logits, l2reg = LeNet(x, keep_prob, Input_channels)\n",
    "cross_entropy = tf.nn.softmax_cross_entropy_with_logits(logits, one_hot_y)\n",
    "loss_operation = tf.reduce_mean(cross_entropy + l2reg)\n",
    "optimizer = tf.train.AdamOptimizer(learning_rate = LEARNING_RATE)\n",
    "training_operation = optimizer.minimize(loss_operation)"
   ]
  },
  {
   "cell_type": "markdown",
   "metadata": {},
   "source": [
    "#### Model Evaluation\n",
    "Evaluate how well the loss and accuracy of the model for a given dataset."
   ]
  },
  {
   "cell_type": "code",
   "execution_count": 25,
   "metadata": {
    "collapsed": true
   },
   "outputs": [],
   "source": [
    "correct_prediction = tf.equal(tf.argmax(logits, 1), tf.argmax(one_hot_y, 1))\n",
    "accuracy_operation = tf.reduce_mean(tf.cast(correct_prediction, tf.float32))\n",
    "saver = tf.train.Saver()\n",
    "\n",
    "def evaluate(X_data, y_data):\n",
    "    num_examples = len(X_data)\n",
    "    total_accuracy = 0\n",
    "    sess = tf.get_default_session()\n",
    "    for offset in range(0, num_examples, BATCH_SIZE):\n",
    "        batch_x, batch_y = X_data[offset:offset+BATCH_SIZE], y_data[offset:offset+BATCH_SIZE]\n",
    "        accuracy = sess.run(accuracy_operation, feed_dict={x: batch_x, y: batch_y, keep_prob: 1.0})\n",
    "        total_accuracy += (accuracy * len(batch_x))\n",
    "    return total_accuracy / num_examples"
   ]
  },
  {
   "cell_type": "markdown",
   "metadata": {},
   "source": [
    "#### Train the Model\n",
    "Run the training data through the training pipeline to train the model.\n",
    "\n",
    "Before each epoch, shuffle the training set.\n",
    "\n",
    "After each epoch, measure the loss and accuracy of the validation set.\n",
    "\n",
    "Save the model after training."
   ]
  },
  {
   "cell_type": "code",
   "execution_count": 26,
   "metadata": {
    "collapsed": false
   },
   "outputs": [
    {
     "name": "stdout",
     "output_type": "stream",
     "text": [
      "Training...\n",
      "\n",
      "EPOCH 1 ...\n",
      "Validation Accuracy = 0.681\n",
      "\n",
      "EPOCH 2 ...\n",
      "Validation Accuracy = 0.824\n",
      "\n",
      "EPOCH 3 ...\n",
      "Validation Accuracy = 0.879\n",
      "\n",
      "EPOCH 4 ...\n",
      "Validation Accuracy = 0.910\n",
      "\n",
      "EPOCH 5 ...\n",
      "Validation Accuracy = 0.934\n",
      "\n",
      "EPOCH 6 ...\n",
      "Validation Accuracy = 0.938\n",
      "\n",
      "EPOCH 7 ...\n",
      "Validation Accuracy = 0.949\n",
      "\n",
      "EPOCH 8 ...\n",
      "Validation Accuracy = 0.952\n",
      "\n",
      "EPOCH 9 ...\n",
      "Validation Accuracy = 0.960\n",
      "\n",
      "EPOCH 10 ...\n",
      "Validation Accuracy = 0.965\n",
      "\n",
      "EPOCH 11 ...\n",
      "Validation Accuracy = 0.966\n",
      "\n",
      "EPOCH 12 ...\n",
      "Validation Accuracy = 0.968\n",
      "\n",
      "EPOCH 13 ...\n",
      "Validation Accuracy = 0.971\n",
      "\n",
      "EPOCH 14 ...\n",
      "Validation Accuracy = 0.970\n",
      "\n",
      "EPOCH 15 ...\n",
      "Validation Accuracy = 0.975\n",
      "\n",
      "EPOCH 16 ...\n",
      "Validation Accuracy = 0.974\n",
      "\n",
      "EPOCH 17 ...\n",
      "Validation Accuracy = 0.976\n",
      "\n",
      "EPOCH 18 ...\n",
      "Validation Accuracy = 0.978\n",
      "\n",
      "EPOCH 19 ...\n",
      "Validation Accuracy = 0.977\n",
      "\n",
      "EPOCH 20 ...\n",
      "Validation Accuracy = 0.980\n",
      "\n",
      "EPOCH 21 ...\n",
      "Validation Accuracy = 0.980\n",
      "\n",
      "EPOCH 22 ...\n",
      "Validation Accuracy = 0.982\n",
      "\n",
      "EPOCH 23 ...\n",
      "Validation Accuracy = 0.981\n",
      "\n",
      "EPOCH 24 ...\n",
      "Validation Accuracy = 0.981\n",
      "\n",
      "EPOCH 25 ...\n",
      "Validation Accuracy = 0.983\n",
      "\n",
      "EPOCH 26 ...\n",
      "Validation Accuracy = 0.983\n",
      "\n",
      "EPOCH 27 ...\n",
      "Validation Accuracy = 0.983\n",
      "\n",
      "EPOCH 28 ...\n",
      "Validation Accuracy = 0.983\n",
      "\n",
      "EPOCH 29 ...\n",
      "Validation Accuracy = 0.982\n",
      "\n",
      "EPOCH 30 ...\n",
      "Validation Accuracy = 0.983\n",
      "\n",
      "EPOCH 31 ...\n",
      "Validation Accuracy = 0.983\n",
      "\n",
      "EPOCH 32 ...\n",
      "Validation Accuracy = 0.985\n",
      "\n",
      "EPOCH 33 ...\n",
      "Validation Accuracy = 0.984\n",
      "\n",
      "EPOCH 34 ...\n",
      "Validation Accuracy = 0.982\n",
      "\n",
      "EPOCH 35 ...\n",
      "Validation Accuracy = 0.985\n",
      "\n",
      "EPOCH 36 ...\n",
      "Validation Accuracy = 0.986\n",
      "\n",
      "EPOCH 37 ...\n",
      "Validation Accuracy = 0.984\n",
      "\n",
      "EPOCH 38 ...\n",
      "Validation Accuracy = 0.984\n",
      "\n",
      "EPOCH 39 ...\n",
      "Validation Accuracy = 0.986\n",
      "\n",
      "EPOCH 40 ...\n",
      "Validation Accuracy = 0.982\n",
      "\n",
      "EPOCH 41 ...\n",
      "Validation Accuracy = 0.987\n",
      "\n",
      "EPOCH 42 ...\n",
      "Validation Accuracy = 0.986\n",
      "\n",
      "EPOCH 43 ...\n",
      "Validation Accuracy = 0.988\n",
      "\n",
      "EPOCH 44 ...\n",
      "Validation Accuracy = 0.985\n",
      "\n",
      "EPOCH 45 ...\n",
      "Validation Accuracy = 0.988\n",
      "\n",
      "EPOCH 46 ...\n",
      "Validation Accuracy = 0.984\n",
      "\n",
      "EPOCH 47 ...\n",
      "Validation Accuracy = 0.986\n",
      "\n",
      "EPOCH 48 ...\n",
      "Validation Accuracy = 0.986\n",
      "\n",
      "EPOCH 49 ...\n",
      "Validation Accuracy = 0.987\n",
      "\n",
      "EPOCH 50 ...\n",
      "Validation Accuracy = 0.989\n",
      "\n",
      "EPOCH 51 ...\n",
      "Validation Accuracy = 0.986\n",
      "\n",
      "EPOCH 52 ...\n",
      "Validation Accuracy = 0.987\n",
      "\n",
      "EPOCH 53 ...\n",
      "Validation Accuracy = 0.986\n",
      "\n",
      "EPOCH 54 ...\n",
      "Validation Accuracy = 0.988\n",
      "\n",
      "EPOCH 55 ...\n",
      "Validation Accuracy = 0.987\n",
      "\n",
      "EPOCH 56 ...\n",
      "Validation Accuracy = 0.988\n",
      "\n",
      "EPOCH 57 ...\n",
      "Validation Accuracy = 0.988\n",
      "\n",
      "EPOCH 58 ...\n",
      "Validation Accuracy = 0.986\n",
      "\n",
      "EPOCH 59 ...\n",
      "Validation Accuracy = 0.986\n",
      "\n",
      "EPOCH 60 ...\n",
      "Validation Accuracy = 0.987\n",
      "\n",
      "EPOCH 61 ...\n",
      "Validation Accuracy = 0.988\n",
      "\n",
      "EPOCH 62 ...\n",
      "Validation Accuracy = 0.987\n",
      "\n",
      "EPOCH 63 ...\n",
      "Validation Accuracy = 0.986\n",
      "\n",
      "EPOCH 64 ...\n",
      "Validation Accuracy = 0.987\n",
      "\n",
      "EPOCH 65 ...\n",
      "Validation Accuracy = 0.987\n",
      "\n",
      "EPOCH 66 ...\n",
      "Validation Accuracy = 0.987\n",
      "\n",
      "EPOCH 67 ...\n",
      "Validation Accuracy = 0.987\n",
      "\n",
      "EPOCH 68 ...\n",
      "Validation Accuracy = 0.989\n",
      "\n",
      "EPOCH 69 ...\n",
      "Validation Accuracy = 0.988\n",
      "\n",
      "EPOCH 70 ...\n",
      "Validation Accuracy = 0.986\n",
      "\n",
      "EPOCH 71 ...\n",
      "Validation Accuracy = 0.988\n",
      "\n",
      "EPOCH 72 ...\n",
      "Validation Accuracy = 0.988\n",
      "\n",
      "EPOCH 73 ...\n",
      "Validation Accuracy = 0.987\n",
      "\n",
      "EPOCH 74 ...\n",
      "Validation Accuracy = 0.987\n",
      "\n",
      "EPOCH 75 ...\n",
      "Validation Accuracy = 0.988\n",
      "\n",
      "EPOCH 76 ...\n",
      "Validation Accuracy = 0.988\n",
      "\n",
      "EPOCH 77 ...\n",
      "Validation Accuracy = 0.989\n",
      "\n",
      "EPOCH 78 ...\n",
      "Validation Accuracy = 0.988\n",
      "\n",
      "EPOCH 79 ...\n",
      "Validation Accuracy = 0.988\n",
      "\n",
      "EPOCH 80 ...\n",
      "Validation Accuracy = 0.987\n",
      "\n",
      "EPOCH 81 ...\n",
      "Validation Accuracy = 0.987\n",
      "\n",
      "EPOCH 82 ...\n",
      "Validation Accuracy = 0.989\n",
      "\n",
      "EPOCH 83 ...\n",
      "Validation Accuracy = 0.989\n",
      "\n",
      "EPOCH 84 ...\n",
      "Validation Accuracy = 0.988\n",
      "\n",
      "EPOCH 85 ...\n",
      "Validation Accuracy = 0.988\n",
      "\n",
      "EPOCH 86 ...\n",
      "Validation Accuracy = 0.988\n",
      "\n",
      "EPOCH 87 ...\n",
      "Validation Accuracy = 0.987\n",
      "\n",
      "EPOCH 88 ...\n",
      "Validation Accuracy = 0.989\n",
      "\n",
      "EPOCH 89 ...\n",
      "Validation Accuracy = 0.988\n",
      "\n",
      "EPOCH 90 ...\n",
      "Validation Accuracy = 0.987\n",
      "\n",
      "EPOCH 91 ...\n",
      "Validation Accuracy = 0.987\n",
      "\n",
      "EPOCH 92 ...\n",
      "Validation Accuracy = 0.988\n",
      "\n",
      "EPOCH 93 ...\n",
      "Validation Accuracy = 0.988\n",
      "\n",
      "EPOCH 94 ...\n",
      "Validation Accuracy = 0.989\n",
      "\n",
      "EPOCH 95 ...\n",
      "Validation Accuracy = 0.989\n",
      "\n",
      "EPOCH 96 ...\n",
      "Validation Accuracy = 0.989\n",
      "\n",
      "EPOCH 97 ...\n",
      "Validation Accuracy = 0.988\n",
      "\n",
      "EPOCH 98 ...\n",
      "Validation Accuracy = 0.987\n",
      "\n",
      "EPOCH 99 ...\n",
      "Validation Accuracy = 0.988\n",
      "\n",
      "EPOCH 100 ...\n",
      "Validation Accuracy = 0.988\n",
      "\n"
     ]
    },
    {
     "ename": "ValueError",
     "evalue": "Parent directory of lenet doesn't exist, can't save.",
     "output_type": "error",
     "traceback": [
      "\u001b[0;31m---------------------------------------------------------------------------\u001b[0m",
      "\u001b[0;31mValueError\u001b[0m                                Traceback (most recent call last)",
      "\u001b[0;32m<ipython-input-26-51167b27feb1>\u001b[0m in \u001b[0;36m<module>\u001b[0;34m()\u001b[0m\n\u001b[1;32m     19\u001b[0m         \u001b[0mprint\u001b[0m\u001b[1;33m(\u001b[0m\u001b[1;33m)\u001b[0m\u001b[1;33m\u001b[0m\u001b[0m\n\u001b[1;32m     20\u001b[0m \u001b[1;33m\u001b[0m\u001b[0m\n\u001b[0;32m---> 21\u001b[0;31m     \u001b[0msaver\u001b[0m\u001b[1;33m.\u001b[0m\u001b[0msave\u001b[0m\u001b[1;33m(\u001b[0m\u001b[0msess\u001b[0m\u001b[1;33m,\u001b[0m \u001b[1;34m'lenet'\u001b[0m\u001b[1;33m)\u001b[0m\u001b[1;33m\u001b[0m\u001b[0m\n\u001b[0m\u001b[1;32m     22\u001b[0m     \u001b[0mprint\u001b[0m\u001b[1;33m(\u001b[0m\u001b[1;34m\"Model saved\"\u001b[0m\u001b[1;33m)\u001b[0m\u001b[1;33m\u001b[0m\u001b[0m\n",
      "\u001b[0;32mC:\\Miniconda3\\envs\\carnd-term1\\lib\\site-packages\\tensorflow\\python\\training\\saver.py\u001b[0m in \u001b[0;36msave\u001b[0;34m(self, sess, save_path, global_step, latest_filename, meta_graph_suffix, write_meta_graph, write_state)\u001b[0m\n\u001b[1;32m   1312\u001b[0m     \u001b[1;32mif\u001b[0m \u001b[1;32mnot\u001b[0m \u001b[0mgfile\u001b[0m\u001b[1;33m.\u001b[0m\u001b[0mIsDirectory\u001b[0m\u001b[1;33m(\u001b[0m\u001b[0mos\u001b[0m\u001b[1;33m.\u001b[0m\u001b[0mpath\u001b[0m\u001b[1;33m.\u001b[0m\u001b[0mdirname\u001b[0m\u001b[1;33m(\u001b[0m\u001b[0msave_path\u001b[0m\u001b[1;33m)\u001b[0m\u001b[1;33m)\u001b[0m\u001b[1;33m:\u001b[0m\u001b[1;33m\u001b[0m\u001b[0m\n\u001b[1;32m   1313\u001b[0m       raise ValueError(\n\u001b[0;32m-> 1314\u001b[0;31m           \"Parent directory of {} doesn't exist, can't save.\".format(save_path))\n\u001b[0m\u001b[1;32m   1315\u001b[0m \u001b[1;33m\u001b[0m\u001b[0m\n\u001b[1;32m   1316\u001b[0m     \u001b[0msave_path\u001b[0m \u001b[1;33m=\u001b[0m \u001b[0mos\u001b[0m\u001b[1;33m.\u001b[0m\u001b[0mpath\u001b[0m\u001b[1;33m.\u001b[0m\u001b[0mdirname\u001b[0m\u001b[1;33m(\u001b[0m\u001b[0msave_path\u001b[0m\u001b[1;33m)\u001b[0m\u001b[1;33m\u001b[0m\u001b[0m\n",
      "\u001b[0;31mValueError\u001b[0m: Parent directory of lenet doesn't exist, can't save."
     ]
    }
   ],
   "source": [
    "from sklearn.utils import shuffle\n",
    "\n",
    "with tf.Session() as sess:\n",
    "    sess.run(tf.global_variables_initializer())\n",
    "    num_examples = len(X_train)\n",
    "    \n",
    "    print(\"Training...\")\n",
    "    print()\n",
    "    for i in range(EPOCHS):\n",
    "        X_train, y_train = shuffle(X_train, y_train)\n",
    "        for offset in range(0, num_examples, BATCH_SIZE):\n",
    "            end = offset + BATCH_SIZE\n",
    "            batch_x, batch_y = X_train[offset:end], y_train[offset:end]\n",
    "            sess.run(training_operation, feed_dict={x: batch_x, y: batch_y, keep_prob: KEEP_PROP})\n",
    "            \n",
    "        validation_accuracy = evaluate(X_validation, y_validation)\n",
    "        print(\"EPOCH {} ...\".format(i+1))\n",
    "        print(\"Validation Accuracy = {:.3f}\".format(validation_accuracy))\n",
    "        print()\n",
    "        \n",
    "    saver.save(sess, './lenet')\n",
    "    print(\"Model saved\")"
   ]
  },
  {
   "cell_type": "markdown",
   "metadata": {},
   "source": [
    "#### Evaluate the Model\n",
    "Evaluate the performance of the model on the test set when model is completely finished."
   ]
  },
  {
   "cell_type": "code",
   "execution_count": 27,
   "metadata": {
    "collapsed": false
   },
   "outputs": [
    {
     "name": "stdout",
     "output_type": "stream",
     "text": [
      "Test Accuracy = 0.951\n"
     ]
    }
   ],
   "source": [
    "with tf.Session() as sess:\n",
    "    saver.restore(sess, tf.train.latest_checkpoint('.'))\n",
    "\n",
    "    test_accuracy = evaluate(X_test, y_test)\n",
    "    print(\"Test Accuracy = {:.3f}\".format(test_accuracy))"
   ]
  },
  {
   "cell_type": "markdown",
   "metadata": {},
   "source": [
    "### Question 4\n",
    "\n",
    "_How did you train your model? (Type of optimizer, batch size, epochs, hyperparameters, etc.)_\n"
   ]
  },
  {
   "cell_type": "markdown",
   "metadata": {},
   "source": [
    "**Answer:**\n",
    "\n",
    "1. During the first step I trained LeNet-5 with rgb traffic signs to understand the base accurancy of the model with the following hyperparams: EPOCHS = 10, BATCH_SIZE = 128, Learning_rate = 0.001. I got the Validation Accurancy = 94.1%.\n",
    "\n",
    "2. During the second step to improve performance of learning, I converted input RGB images to gray (extracting Y channel form YUV) with some preprocessing (see above), added centering and normalization of images. I got the Validation Accurancy = 96% using the same hyperparams: EPOCHS = 10, BATCH_SIZE = 128, Learning_rate = 0.001. The same model with EPOHS = 100 gives the Validation Accurancy = 98% (validation accuracy fluctuates around 0.98 after epoh > 47).\n",
    "\n",
    "3. To improve generalization of classifier (decreasing overfitting of model), added L2 regularization into loss function and Dropout into full connected layers. EPOHS = 100, KEEP_PROP=0.5, BETA=0.00001 with augmentation gives the Validation Accurancy = 99%\n",
    "\n",
    "4. Evaluated generalization of model on the test set after the model has been fixed. Test Accuracy = 95.1%.\n",
    "\n",
    "I used Adaptive Moment Estimation (Adam) gradient descent optimization algorithm to automate computing of adaptive learning rate.\n",
    "\n",
    "Final hyperparameters of model:\n",
    "\n",
    "EPOCHS = 100\n",
    "\n",
    "BATCH_SIZE = 128\n",
    "\n",
    "KEEP_PROP=0.5\n",
    "\n",
    "BETA=0.00001\n",
    "\n",
    "LEARNING_RATE=0.001\n",
    "\n",
    "Training of model:\n",
    "Initial hyperparameters of LeNet-5 is quite good as initial values for trainig: EPOCHS=10, BATCH_SIZE = 128, LEARNING_RATE=0.001. To optimize EPOHS, I changed EPOHS with some step like 20 to increase Validation Accurance. \n",
    "L2 regularization parameter was initialized by 0.00001 (typical values of L2 regularization parameter are on orders of 3 or 4 for convolutional network). It is posible to use Tensorboard for visualization of filters to setup optimal value of L2 regularization by trying to get more smooth learned filters.\n",
    "\n"
   ]
  },
  {
   "cell_type": "markdown",
   "metadata": {},
   "source": [
    "### Question 5\n",
    "\n",
    "\n",
    "_What approach did you take in coming up with a solution to this problem? It may have been a process of trial and error, in which case, outline the steps you took to get to the final solution and why you chose those steps. Perhaps your solution involved an already well known implementation or architecture. In this case, discuss why you think this is suitable for the current problem._"
   ]
  },
  {
   "cell_type": "markdown",
   "metadata": {},
   "source": [
    "**Answer:**\n",
    "\n",
    "I started with well-known implementation of model LeNet-5, used to solve quite similar problem. Architecture of LeNet-5 learns and extracts main features of digital numbers, which are presented in the shape of numbers. The same model can be used for classification of traffic signs too, based of the shapes of signs. I adapted LeNet-5 model for the clasification problem of sign by adding dropout and L2 regularization to improve generalization of the model. Preprocessing of input images allows to improve performace of feature learning by the model. More deep adaptation of model for classification of signs takes more time: changing number of convolutional layers, dimension of learned filters (patched), modification of number neurons in hidden layers.   "
   ]
  },
  {
   "cell_type": "markdown",
   "metadata": {},
   "source": [
    "---\n",
    "\n",
    "## Step 3: Test a Model on New Images\n",
    "\n",
    "Take several pictures of traffic signs that you find on the web or around you (at least five), and run them through your classifier on your computer to produce example results. The classifier might not recognize some local signs but it could prove interesting nonetheless.\n",
    "\n",
    "You may find `signnames.csv` useful as it contains mappings from the class id (integer) to the actual sign name."
   ]
  },
  {
   "cell_type": "markdown",
   "metadata": {},
   "source": [
    "### Implementation\n",
    "\n",
    "Use the code cell (or multiple code cells, if necessary) to implement the first step of your project. Once you have completed your implementation and are satisfied with the results, be sure to thoroughly answer the questions that follow."
   ]
  },
  {
   "cell_type": "code",
   "execution_count": 28,
   "metadata": {
    "collapsed": false
   },
   "outputs": [],
   "source": [
    "### Load the images and plot them here.\n",
    "### Feel free to use as many code cells as needed."
   ]
  },
  {
   "cell_type": "code",
   "execution_count": 29,
   "metadata": {
    "collapsed": true
   },
   "outputs": [],
   "source": [
    "import cv2\n",
    "\n",
    "def read_image_rgb(file):\n",
    "    # returns BGR\n",
    "    srcBGR = cv2.imread(file)\n",
    "    return cv2.cvtColor(srcBGR, cv2.COLOR_BGR2RGB)"
   ]
  },
  {
   "cell_type": "code",
   "execution_count": 30,
   "metadata": {
    "collapsed": false
   },
   "outputs": [
    {
     "data": {
      "image/png": "[encoded data removed]",
      "text/plain": [
       "<matplotlib.figure.Figure at 0x2878c77afd0>"
      ]
     },
     "metadata": {},
     "output_type": "display_data"
    }
   ],
   "source": [
    "# Preparing test set from new images\n",
    "\n",
    "import matplotlib.pyplot as plt\n",
    "%matplotlib inline\n",
    "\n",
    "new_images_set = [['new_images/im-01.jpg', 1],\n",
    "                  ['new_images/im-13.jpg', 13],\n",
    "                  ['new_images/im-17.jpg', 17],\n",
    "                  ['new_images/im-18.jpg', 18],\n",
    "                  ['new_images/im-33.jpg', 33],\n",
    "                 ]\n",
    "\n",
    "n_new_images = len(new_images_set)\n",
    "\n",
    "X_test_new = np.ndarray((n_new_images, 32, 32, 3), dtype=np.uint8)\n",
    "#y_test_new = np.zeros((n_new_images, n_classes), dtype=y_test.dtype)\n",
    "y_test_new = np.zeros((n_new_images), dtype=y_test.dtype)\n",
    "\n",
    "new_images = X_test_new\n",
    "\n",
    "# load samples\n",
    "for i, im, in enumerate(new_images_set):\n",
    "    n_class = im[1]\n",
    "    X_test_new [i] = read_image_rgb(im[0])\n",
    "    y_test_new [i] = n_class\n",
    "\n",
    "# display samples\n",
    "def show_sample(ax, index):\n",
    "    ax.set_title(sign_names[str(y_test_new[index])], fontsize=8)\n",
    "    ax.tick_params(axis='both', which='major', labelsize=6)\n",
    "    ax.imshow(X_test_new[index])\n",
    "    \n",
    "fig, (ax1, ax2, ax3, ax4, ax5) = plt.subplots(nrows=1, ncols=5)\n",
    "\n",
    "show_sample(ax1, 0)\n",
    "show_sample(ax2, 1)\n",
    "show_sample(ax3, 2)\n",
    "show_sample(ax4, 3)\n",
    "show_sample(ax5, 4)\n",
    "\n",
    "plt.tight_layout()    "
   ]
  },
  {
   "cell_type": "code",
   "execution_count": 31,
   "metadata": {
    "collapsed": false
   },
   "outputs": [
    {
     "data": {
      "image/png": "[encoded data removed]",
      "text/plain": [
       "<matplotlib.figure.Figure at 0x2878d45b048>"
      ]
     },
     "metadata": {},
     "output_type": "display_data"
    }
   ],
   "source": [
    "# Preprocessing of new images\n",
    "\n",
    "X_test_new = preprocess_images(X_test_new)\n",
    "\n",
    "def show_sample(ax, index):\n",
    "    ax.set_title(sign_names[str(y_test_new[index])], fontsize=8)\n",
    "    ax.tick_params(axis='both', which='major', labelsize=6)\n",
    "    gr = np.squeeze(X_test_new[index], axis=2)\n",
    "    ax.imshow(np.dstack((gr,gr,gr)))\n",
    "\n",
    "# Preprocessed samples\n",
    "fig, (ax1, ax2, ax3, ax4, ax5) = plt.subplots(nrows=1, ncols=5)\n",
    "\n",
    "show_sample(ax1, 0)\n",
    "show_sample(ax2, 1)\n",
    "show_sample(ax3, 2)\n",
    "show_sample(ax4, 3)\n",
    "show_sample(ax5, 4)\n",
    "\n",
    "plt.tight_layout()\n",
    "\n",
    "# Centering and normalization\n",
    "X_test_new = center_and_normaize_image(X_test_new, MEAN, STD)"
   ]
  },
  {
   "cell_type": "markdown",
   "metadata": {},
   "source": [
    "### Question 6\n",
    "\n",
    "_Choose five candidate images of traffic signs and provide them in the report. Are there any particular qualities of the image(s) that might make classification difficult? It could be helpful to plot the images in the notebook._\n",
    "\n"
   ]
  },
  {
   "cell_type": "markdown",
   "metadata": {},
   "source": [
    "**Answer:**\n",
    "\n",
    "In common case, perspective distortion and low contrast may create difficulties during classification. But, in my case, it's not actual."
   ]
  },
  {
   "cell_type": "code",
   "execution_count": 32,
   "metadata": {
    "collapsed": false
   },
   "outputs": [],
   "source": [
    "### Run the predictions here.\n",
    "### Feel free to use as many code cells as needed.\n",
    "\n",
    "softmax_prob = None\n",
    "accuracy = None\n",
    "\n",
    "softmax = tf.nn.softmax(logits)\n",
    "\n",
    "def prediction(X_data, y_data):\n",
    "    sess = tf.get_default_session()\n",
    "    return sess.run(softmax, feed_dict={x: X_data, y: y_data, keep_prob: 1.0})\n",
    "\n",
    "# Running the preditions\n",
    "with tf.Session() as sess:\n",
    "    saver.restore(sess, tf.train.latest_checkpoint('.'))\n",
    "    softmax_prob = prediction(X_test_new, y_test_new)"
   ]
  },
  {
   "cell_type": "code",
   "execution_count": 33,
   "metadata": {
    "collapsed": false
   },
   "outputs": [
    {
     "name": "stdout",
     "output_type": "stream",
     "text": [
      "Test Accuracy = 1.000\n"
     ]
    }
   ],
   "source": [
    "# Accuracy of prediction\n",
    "with tf.Session() as sess:\n",
    "    saver.restore(sess, tf.train.latest_checkpoint('.'))\n",
    "    accuracy = sess.run(accuracy_operation, feed_dict={x: X_test_new, y: y_test_new, keep_prob: 1.0})\n",
    "    print(\"Test Accuracy = {:.3f}\".format(accuracy))"
   ]
  },
  {
   "cell_type": "markdown",
   "metadata": {},
   "source": [
    "### Question 7\n",
    "\n",
    "_Is your model able to perform equally well on captured pictures when compared to testing on the dataset? The simplest way to do this check the accuracy of the predictions. For example, if the model predicted 1 out of 5 signs correctly, it's 20% accurate._\n",
    "\n",
    "_**NOTE:** You could check the accuracy manually by using `signnames.csv` (same directory). This file has a mapping from the class id (0-42) to the corresponding sign name. So, you could take the class id the model outputs, lookup the name in `signnames.csv` and see if it matches the sign from the image._\n"
   ]
  },
  {
   "cell_type": "markdown",
   "metadata": {},
   "source": [
    "**Answer:**\n",
    "\n",
    "The accuracy of predictions on new images is 100%."
   ]
  },
  {
   "cell_type": "code",
   "execution_count": 34,
   "metadata": {
    "collapsed": false
   },
   "outputs": [],
   "source": [
    "### Visualize the softmax probabilities here.\n",
    "### Feel free to use as many code cells as needed.\n",
    "\n",
    "#print(\"softmax_prob = \", softmax_prob)\n",
    "\n",
    "def calc_top_k(probs):\n",
    "    top_k = None\n",
    "    with tf.Session() as sess:\n",
    "        top_k = sess.run(tf.nn.top_k(tf.constant(probs), k=n_new_images))\n",
    "    return top_k"
   ]
  },
  {
   "cell_type": "code",
   "execution_count": 35,
   "metadata": {
    "collapsed": false
   },
   "outputs": [],
   "source": [
    "def show_softmax_prob(index, img, n_class, top_k_prob, top_k_clases):\n",
    "    fig, (ax1, ax2) = plt.subplots(nrows=1, ncols=2)\n",
    "    fig.set_figsize = (20, 20)\n",
    "    ax1.set_title('Image', fontsize=8)\n",
    "    ax1.imshow(img)\n",
    "    \n",
    "    figsize=(20,10)\n",
    "    \n",
    "    ax2.set_title('Probability of top 5 classes', fontsize=8)\n",
    "    n_classes = range(len(top_k_clases))\n",
    "    \n",
    "    class_name = list()\n",
    "        \n",
    "    for i in range(len(top_k_clases)):\n",
    "        class_name.append(sign_names[str(top_k_clases[i])])\n",
    "    \n",
    "    width = 1/1.5\n",
    "    ax2.bar(n_classes, top_k_prob, width, color=\"blue\")\n",
    "    ax2.set_xticklabels(class_name, rotation='vertical')\n",
    "    ax2.tick_params(axis='both', which='major', labelsize=8)\n",
    "    \n",
    "    plt.tight_layout()\n"
   ]
  },
  {
   "cell_type": "code",
   "execution_count": 36,
   "metadata": {
    "collapsed": true
   },
   "outputs": [],
   "source": [
    "top_k = calc_top_k(softmax_prob)"
   ]
  },
  {
   "cell_type": "markdown",
   "metadata": {},
   "source": [
    "#### Sample 0: probability of top 5 classes"
   ]
  },
  {
   "cell_type": "code",
   "execution_count": 37,
   "metadata": {
    "collapsed": false,
    "scrolled": true
   },
   "outputs": [
    {
     "name": "stdout",
     "output_type": "stream",
     "text": [
      "[  1.00000000e+00   1.61114253e-12   1.26703877e-12   1.01565826e-12\n",
      "   5.22764383e-16]\n"
     ]
    }
   ],
   "source": [
    "print(top_k[0][0])"
   ]
  },
  {
   "cell_type": "code",
   "execution_count": 38,
   "metadata": {
    "collapsed": false,
    "scrolled": true
   },
   "outputs": [
    {
     "data": {
      "image/png": "[encoded data removed]",
      "text/plain": [
       "<matplotlib.figure.Figure at 0x2878cc77390>"
      ]
     },
     "metadata": {},
     "output_type": "display_data"
    }
   ],
   "source": [
    "show_softmax_prob(0, new_images[0], y_test_new, top_k[0][0], top_k[1][0])\n"
   ]
  },
  {
   "cell_type": "markdown",
   "metadata": {},
   "source": [
    "#### Sample 1: probability of top 5 classes"
   ]
  },
  {
   "cell_type": "code",
   "execution_count": 39,
   "metadata": {
    "collapsed": false,
    "scrolled": true
   },
   "outputs": [
    {
     "name": "stdout",
     "output_type": "stream",
     "text": [
      "[  1.00000000e+00   1.13890347e-30   9.21308575e-34   2.24648235e-35\n",
      "   2.22934756e-36]\n"
     ]
    }
   ],
   "source": [
    "print(top_k[0][1])"
   ]
  },
  {
   "cell_type": "code",
   "execution_count": 40,
   "metadata": {
    "collapsed": false,
    "scrolled": true
   },
   "outputs": [
    {
     "data": {
      "image/png": "[encoded data removed]",
      "text/plain": [
       "<matplotlib.figure.Figure at 0x2878d498c88>"
      ]
     },
     "metadata": {},
     "output_type": "display_data"
    }
   ],
   "source": [
    "show_softmax_prob(1, new_images[1], y_test_new, top_k[0][1], top_k[1][1])"
   ]
  },
  {
   "cell_type": "markdown",
   "metadata": {},
   "source": [
    "#### Sample 2: probability of top 5 classes"
   ]
  },
  {
   "cell_type": "code",
   "execution_count": 41,
   "metadata": {
    "collapsed": false
   },
   "outputs": [
    {
     "name": "stdout",
     "output_type": "stream",
     "text": [
      "[  1.00000000e+00   1.20004771e-08   9.12338374e-14   2.49352227e-15\n",
      "   1.35735018e-15]\n"
     ]
    }
   ],
   "source": [
    "print(top_k[0][2])"
   ]
  },
  {
   "cell_type": "code",
   "execution_count": 42,
   "metadata": {
    "collapsed": false,
    "scrolled": true
   },
   "outputs": [
    {
     "data": {
      "image/png": "[encoded data removed]",
      "text/plain": [
       "<matplotlib.figure.Figure at 0x2878d45ad30>"
      ]
     },
     "metadata": {},
     "output_type": "display_data"
    }
   ],
   "source": [
    "show_softmax_prob(2, new_images[2], y_test_new, top_k[0][2], top_k[1][2])"
   ]
  },
  {
   "cell_type": "markdown",
   "metadata": {},
   "source": [
    "#### Sample 3: probability of top 5 classes"
   ]
  },
  {
   "cell_type": "code",
   "execution_count": 43,
   "metadata": {
    "collapsed": false
   },
   "outputs": [
    {
     "name": "stdout",
     "output_type": "stream",
     "text": [
      "[  9.99741018e-01   2.58676795e-04   2.14980204e-07   1.26567813e-14\n",
      "   7.77634776e-15]\n"
     ]
    }
   ],
   "source": [
    "print(top_k[0][3])"
   ]
  },
  {
   "cell_type": "code",
   "execution_count": 44,
   "metadata": {
    "collapsed": false
   },
   "outputs": [
    {
     "data": {
      "image/png": "[encoded data removed]",
      "text/plain": [
       "<matplotlib.figure.Figure at 0x2878cf91588>"
      ]
     },
     "metadata": {},
     "output_type": "display_data"
    }
   ],
   "source": [
    "show_softmax_prob(3, new_images[3], y_test_new, top_k[0][3], top_k[1][3])"
   ]
  },
  {
   "cell_type": "markdown",
   "metadata": {},
   "source": [
    "#### Sample 4: probability of top 5 classes"
   ]
  },
  {
   "cell_type": "code",
   "execution_count": 45,
   "metadata": {
    "collapsed": false
   },
   "outputs": [
    {
     "name": "stdout",
     "output_type": "stream",
     "text": [
      "[  1.00000000e+00   1.42012477e-14   1.06435423e-19   2.19853992e-20\n",
      "   8.86511867e-24]\n"
     ]
    }
   ],
   "source": [
    "print(top_k[0][4])"
   ]
  },
  {
   "cell_type": "code",
   "execution_count": 46,
   "metadata": {
    "collapsed": false
   },
   "outputs": [
    {
     "data": {
      "image/png": "[encoded data removed]",
      "text/plain": [
       "<matplotlib.figure.Figure at 0x2878d7467b8>"
      ]
     },
     "metadata": {},
     "output_type": "display_data"
    }
   ],
   "source": [
    "show_softmax_prob(4, new_images[4], y_test_new, top_k[0][4], top_k[1][4])"
   ]
  },
  {
   "cell_type": "markdown",
   "metadata": {},
   "source": [
    "### Question 8\n",
    "\n",
    "*Use the model's softmax probabilities to visualize the **certainty** of its predictions, [`tf.nn.top_k`](https://www.tensorflow.org/versions/r0.12/api_docs/python/nn.html#top_k) could prove helpful here. Which predictions is the model certain of? Uncertain? If the model was incorrect in its initial prediction, does the correct prediction appear in the top k? (k should be 5 at most)*\n"
   ]
  },
  {
   "cell_type": "markdown",
   "metadata": {},
   "source": [
    "**Answer:**\n",
    "\n",
    "All 5 predictions are correct (see above)."
   ]
  },
  {
   "cell_type": "markdown",
   "metadata": {},
   "source": [
    "> **Note**: Once you have completed all of the code implementations and successfully answered each question above, you may finalize your work by exporting the iPython Notebook as an HTML document. You can do this by using the menu above and navigating to  \\n\",\n",
    "    \"**File -> Download as -> HTML (.html)**. Include the finished document along with this notebook as your submission."
   ]
  }
 ],
 "metadata": {
  "anaconda-cloud": {},
  "celltoolbar": "Raw Cell Format",
  "kernelspec": {
   "display_name": "Python 3",
   "language": "python",
   "name": "python3"
  },
  "language_info": {
   "codemirror_mode": {
    "name": "ipython",
    "version": 3
   },
   "file_extension": ".py",
   "mimetype": "text/x-python",
   "name": "python",
   "nbconvert_exporter": "python",
   "pygments_lexer": "ipython3",
   "version": "3.5.2"
  },
  "widgets": {
   "state": {},
   "version": "1.1.2"
  }
 },
 "nbformat": 4,
 "nbformat_minor": 1
}
